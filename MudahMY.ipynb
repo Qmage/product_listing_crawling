{
 "cells": [
  {
   "cell_type": "code",
   "execution_count": null,
   "metadata": {
    "collapsed": false
   },
   "outputs": [],
   "source": [
    "import re\n",
    "import requests\n",
    "from bs4 import BeautifulSoup\n",
    "from lxml import html\n",
    "import pandas as pd\n",
    "import dateparser\n",
    "import geocoder"
   ]
  },
  {
   "cell_type": "code",
   "execution_count": null,
   "metadata": {
    "collapsed": false
   },
   "outputs": [],
   "source": [
    "all_items = []"
   ]
  },
  {
   "cell_type": "code",
   "execution_count": null,
   "metadata": {
    "collapsed": false,
    "scrolled": true
   },
   "outputs": [],
   "source": [
    "r = requests.get('http://www.mudah.my/', \n",
    "                 headers = {'User-Agent': 'Mozilla/5.0 (Windows NT 6.1) AppleWebKit/537.36 (KHTML, like Gecko) Chrome/41.0.2228.0 Safari/537.36'})\n",
    "tree = html.fromstring(r.content)\n",
    "links = tree.xpath(\"/html/body[@id='simple']/div[@id='homepage-wrap']/div[@id='wrap']/map/area[@class='trackable']//@href\")\n",
    "\n",
    "for state_link in [\"http://www.mudah.my/Malaysia/Electronics-for-sale-3000\",\"http://www.mudah.my/Malaysia/Home-Appliances-and-Kitchen-for-sale-4200\"]:\n",
    "    print(\"NOW CRAWLING FOR {}\".format(state_link))\n",
    "    state_page = requests.get(state_link, \n",
    "                     headers = {'User-Agent': 'Mozilla/5.0 (Windows NT 10.0; Win64; x64) AppleWebKit/537.36 (KHTML, like Gecko) Chrome/60.0.3112.113 Safari/537.36'})\n",
    "    state_tree = html.fromstring(state_page.content)\n",
    "    max_page = re.search(r'o=(\\d+)',state_tree.xpath(\"//a[@title='Go to last page']//@href\")[0]).group(1)\n",
    "    for num in range(0+1, int(max_page)+1):\n",
    "        state_page = requests.get('{}?o={}'.format(state_link,num), \n",
    "                         headers = {'User-Agent': 'Mozilla/5.0 (Windows NT 10.0; Win64; x64) AppleWebKit/537.36 (KHTML, like Gecko) Chrome/60.0.3112.113 Safari/537.36'})\n",
    "        state_tree = html.fromstring(state_page.content)\n",
    "        item_pages = state_tree.xpath(\"//h2[@class='list_title']//@href\")\n",
    "        for page in item_pages:\n",
    "            try:\n",
    "                item_page = requests.get(page, \n",
    "                                 headers = {'User-Agent': 'Mozilla/5.0 (Windows NT 10.0; Win64; x64) AppleWebKit/537.36 (KHTML, like Gecko) Chrome/60.0.3112.113 Safari/537.36'})\n",
    "                item_tree = html.fromstring(item_page.content)\n",
    "                item_info = item_tree.xpath(\"//script[contains(text(),'utag')]\")\n",
    "                es = item_info[0]\n",
    "                item_dict = {k:v for k,v in re.findall('utag_data\\[\"([^\\\"]*)\"\\]=\"([^\\\"]*)\"',es.text)}\n",
    "                description = item_tree.xpath(\"//p[@itemprop='description']/text()\")\n",
    "                if description:\n",
    "                    item_dict['description'] = description[0].strip()\n",
    "                list_time = item_tree.xpath(\"//div[@class='list_time']/text()\")\n",
    "                if list_time:\n",
    "                    item_dict['list_time'] = dateparser.parse(list_time[0].strip()).isoformat()\n",
    "                all_items.append(item_dict)\n",
    "            except (KeyboardInterrupt, SystemExit):\n",
    "                raise\n",
    "            except:\n",
    "                print('some error at page {}'.format(page))"
   ]
  },
  {
   "cell_type": "code",
   "execution_count": 44,
   "metadata": {
    "collapsed": true
   },
   "outputs": [],
   "source": [
    "import pandas as pd"
   ]
  },
  {
   "cell_type": "code",
   "execution_count": null,
   "metadata": {
    "collapsed": true
   },
   "outputs": [],
   "source": [
    "df = pd.DataFrame(all_items)"
   ]
  },
  {
   "cell_type": "code",
   "execution_count": null,
   "metadata": {
    "collapsed": false
   },
   "outputs": [],
   "source": [
    "df.to_excel('Mudah_20170917.xlsx',index=False)"
   ]
  },
  {
   "cell_type": "code",
   "execution_count": 145,
   "metadata": {
    "collapsed": false,
    "scrolled": true
   },
   "outputs": [],
   "source": [
    "region_geo_df = df[['subregion_name','region_name']].drop_duplicates()"
   ]
  },
  {
   "cell_type": "code",
   "execution_count": null,
   "metadata": {
    "collapsed": true
   },
   "outputs": [],
   "source": [
    "def getGeoCode(subregion, region):\n",
    "    g = geocoder.google('{}, {}, Malaysia'.format(subregion, region))\n",
    "    if g.geojson['features']:\n",
    "        print(g.geojson['features'])\n",
    "        return (g.geojson['features'][0]['properties']['lat'], g.geojson['features'][0]['properties']['lng'])"
   ]
  },
  {
   "cell_type": "code",
   "execution_count": null,
   "metadata": {
    "collapsed": false,
    "scrolled": true
   },
   "outputs": [],
   "source": [
    "region_geo_df['coordinate'] = region_geo_df.apply(lambda x: getGeoCode(x['subregion_name'], x['region_name']), axis=1)"
   ]
  },
  {
   "cell_type": "code",
   "execution_count": null,
   "metadata": {
    "collapsed": true
   },
   "outputs": [],
   "source": [
    "region_geo_df.loc[region_geo_df['subregion_name']=='Others','coordinate'] = None"
   ]
  },
  {
   "cell_type": "code",
   "execution_count": 153,
   "metadata": {
    "collapsed": false
   },
   "outputs": [],
   "source": [
    "geo = pd.read_excel('Geolocation.xlsx')\n",
    "geo['coordinate'] = geo['coordinate'].map(lambda x: tuple(x.split(',')))"
   ]
  },
  {
   "cell_type": "code",
   "execution_count": 113,
   "metadata": {
    "collapsed": false,
    "scrolled": true
   },
   "outputs": [],
   "source": [
    "region_geo_df2 = region_geo_df.merge(geo, how='outer', on=['subregion_name','region_name'])\n",
    "region_geo_df2['coordinate'] = region_geo_df2.apply(lambda x: x['coordinate_x'] if pd.notnull(x['coordinate_x']) else x['coordinate_y'], \n",
    "                     axis=1)\n",
    "region_geo_df2 = region_geo_df2.drop(['coordinate_x','coordinate_y'],axis=1)"
   ]
  },
  {
   "cell_type": "code",
   "execution_count": 123,
   "metadata": {
    "collapsed": false
   },
   "outputs": [],
   "source": [
    "region_geo_df2['subregion_lat'] = region_geo_df2['coordinate'].map(lambda x: x[0])\n",
    "region_geo_df2['subregion_lng'] = region_geo_df2['coordinate'].map(lambda x: x[1])\n",
    "region_geo_df2 = region_geo_df2.drop('coordinate',axis=1)\n",
    "region_lat = region_geo_df2[region_geo_df2['subregion_name']=='Others'].set_index('region_name')['subregion_lat']\n",
    "region_lng = region_geo_df2[region_geo_df2['subregion_name']=='Others'].set_index('region_name')['subregion_lng']\n",
    "region_geo_df2['region_lat'] = region_geo_df2['region_name'].map(region_lat)\n",
    "region_geo_df2['region_lng'] = region_geo_df2['region_name'].map(region_lng)\n",
    "region_geo_df2[['subregion_lat','subregion_lng','region_lat','region_lng']] = region_geo_df2[['subregion_lat','subregion_lng','region_lat','region_lng']].applymap(float)"
   ]
  },
  {
   "cell_type": "code",
   "execution_count": 174,
   "metadata": {
    "collapsed": false
   },
   "outputs": [],
   "source": [
    "df_final = df.merge(region_geo_df2, how='left', on=['subregion_name','region_name'])"
   ]
  },
  {
   "cell_type": "code",
   "execution_count": 176,
   "metadata": {
    "collapsed": true
   },
   "outputs": [],
   "source": [
    "df_final.to_excel('Mudah_20170917.xlsx',index=False)"
   ]
  },
  {
   "cell_type": "code",
   "execution_count": 160,
   "metadata": {
    "collapsed": false
   },
   "outputs": [],
   "source": [
    "region_geo_df = df_final[['subregion_name','region_name','subregion_lat', 'subregion_lng', 'region_lat', 'region_lng']].drop_duplicates()"
   ]
  },
  {
   "cell_type": "code",
   "execution_count": 157,
   "metadata": {
    "collapsed": false,
    "scrolled": true
   },
   "outputs": [],
   "source": [
    "region_geo_df2 = geo"
   ]
  },
  {
   "cell_type": "code",
   "execution_count": 158,
   "metadata": {
    "collapsed": false
   },
   "outputs": [],
   "source": [
    "region_geo_df2['subregion_lat'] = region_geo_df2['coordinate'].map(lambda x: x[0])\n",
    "region_geo_df2['subregion_lng'] = region_geo_df2['coordinate'].map(lambda x: x[1])\n",
    "region_geo_df2 = region_geo_df2.drop('coordinate',axis=1)\n",
    "region_lat = region_geo_df2[region_geo_df2['subregion_name']=='Others'].set_index('region_name')['subregion_lat']\n",
    "region_lng = region_geo_df2[region_geo_df2['subregion_name']=='Others'].set_index('region_name')['subregion_lng']\n",
    "region_geo_df2['region_lat'] = region_geo_df2['region_name'].map(region_lat)\n",
    "region_geo_df2['region_lng'] = region_geo_df2['region_name'].map(region_lng)\n",
    "region_geo_df2[['subregion_lat','subregion_lng','region_lat','region_lng']] = region_geo_df2[['subregion_lat','subregion_lng','region_lat','region_lng']].applymap(float)"
   ]
  },
  {
   "cell_type": "code",
   "execution_count": 163,
   "metadata": {
    "collapsed": false,
    "scrolled": true
   },
   "outputs": [],
   "source": [
    "region_geo_df3 = region_geo_df.merge(region_geo_df2, 'outer',['subregion_name','region_name'])"
   ]
  },
  {
   "cell_type": "code",
   "execution_count": 165,
   "metadata": {
    "collapsed": false
   },
   "outputs": [],
   "source": [
    "region_geo_df3['subregion_lat'] = region_geo_df3.apply(lambda x: x['subregion_lat_y'] if pd.notnull(x['subregion_lat_y']) else x['subregion_lat_x'],  axis=1)\n",
    "region_geo_df3['subregion_lng'] = region_geo_df3.apply(lambda x: x['subregion_lng_y'] if pd.notnull(x['subregion_lng_y']) else x['subregion_lng_x'],  axis=1)"
   ]
  },
  {
   "cell_type": "code",
   "execution_count": 169,
   "metadata": {
    "collapsed": false
   },
   "outputs": [],
   "source": [
    "region_geo_df3 = region_geo_df3.drop(['subregion_lat_x', 'subregion_lng_x',\n",
    "       'region_lat_x', 'region_lng_x', 'subregion_lat_y', 'subregion_lng_y',\n",
    "       'region_lat_y', 'region_lng_y'],axis=1)"
   ]
  },
  {
   "cell_type": "code",
   "execution_count": 170,
   "metadata": {
    "collapsed": true
   },
   "outputs": [],
   "source": [
    "region_geo_df3['region_lat'] = region_geo_df3['region_name'].map(region_lat)\n",
    "region_geo_df3['region_lng'] = region_geo_df3['region_name'].map(region_lng)"
   ]
  },
  {
   "cell_type": "code",
   "execution_count": 172,
   "metadata": {
    "collapsed": false
   },
   "outputs": [],
   "source": [
    "region_geo_df3[['subregion_lat','subregion_lng','region_lat','region_lng']] = region_geo_df3[['subregion_lat','subregion_lng','region_lat','region_lng']].applymap(float)"
   ]
  },
  {
   "cell_type": "code",
   "execution_count": null,
   "metadata": {
    "collapsed": true
   },
   "outputs": [],
   "source": []
  }
 ],
 "metadata": {
  "kernelspec": {
   "display_name": "Python 3",
   "language": "python",
   "name": "python3"
  },
  "language_info": {
   "codemirror_mode": {
    "name": "ipython",
    "version": 3
   },
   "file_extension": ".py",
   "mimetype": "text/x-python",
   "name": "python",
   "nbconvert_exporter": "python",
   "pygments_lexer": "ipython3",
   "version": "3.5.1"
  }
 },
 "nbformat": 4,
 "nbformat_minor": 0
}
